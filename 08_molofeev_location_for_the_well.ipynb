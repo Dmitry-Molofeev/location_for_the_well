{
 "cells": [
  {
   "cell_type": "markdown",
   "metadata": {},
   "source": [
    "# Выбор локации для скважины"
   ]
  },
  {
   "cell_type": "markdown",
   "metadata": {},
   "source": [
    "Допустим, вы работаете в добывающей компании «ГлавРосГосНефть». Нужно решить, где бурить новую скважину.\n",
    "\n",
    "Вам предоставлены пробы нефти в трёх регионах: в каждом 10 000 месторождений, где измерили качество нефти и объём её запасов. Постройте модель машинного обучения, которая поможет определить регион, где добыча принесёт наибольшую прибыль. Проанализируйте возможную прибыль и риски техникой *Bootstrap.*\n",
    "\n",
    "Шаги для выбора локации:\n",
    "\n",
    "- В избранном регионе ищут месторождения, для каждого определяют значения признаков;\n",
    "- Строят модель и оценивают объём запасов;\n",
    "- Выбирают месторождения с самым высокими оценками значений. Количество месторождений зависит от бюджета компании и стоимости разработки одной скважины;\n",
    "- Прибыль равна суммарной прибыли отобранных месторождений."
   ]
  },
  {
   "cell_type": "markdown",
   "metadata": {},
   "source": [
    "**Описание данных**\n",
    "\n",
    "В 3 разных датасетах находятся данные геологоразведки в трех регионах и содержат следующие сведения: \n",
    "- id — уникальный идентификатор скважины;\n",
    "- f0, f1, f2 — три признака точек (неважно, что они означают, но сами признаки значимы);\n",
    "- product — объём запасов в скважине (тыс. баррелей)."
   ]
  },
  {
   "cell_type": "markdown",
   "metadata": {},
   "source": [
    "В ходе работы над проектом нам предстоит:\n",
    "- изучение данных, подготовка их к моделированию;\n",
    "- обучение моделей для каждого региона (А, В и С);\n",
    "- составление функция расчета прибыли в регионе, расчет прибыли и рисков за каждом регионе."
   ]
  },
  {
   "cell_type": "markdown",
   "metadata": {},
   "source": [
    "**Цель проекта:** Построить модель, которая определит регион, где добыча принесёт наибольшую прибыль."
   ]
  },
  {
   "cell_type": "markdown",
   "metadata": {},
   "source": [
    "## Загрузка и подготовка данных"
   ]
  },
  {
   "cell_type": "markdown",
   "metadata": {},
   "source": [
    "Первоначально загрузим необходимые для работы библиотеки."
   ]
  },
  {
   "cell_type": "code",
   "execution_count": 1,
   "metadata": {},
   "outputs": [],
   "source": [
    "import pandas as pd\n",
    "import numpy as np\n",
    "import math\n",
    "\n",
    "import seaborn as sns\n",
    "import matplotlib.pyplot as plt\n",
    "import plotly.express as px\n",
    "\n",
    "from sklearn.model_selection import train_test_split\n",
    "from sklearn.model_selection import GridSearchCV\n",
    "\n",
    "from sklearn.linear_model import LassoCV\n",
    "from sklearn.linear_model import LinearRegression\n",
    "\n",
    "from sklearn.metrics import  mean_squared_error, mean_absolute_error, r2_score"
   ]
  },
  {
   "cell_type": "markdown",
   "metadata": {},
   "source": [
    "Выберем уникальный код для `random_state`, который назовем `random_magic`."
   ]
  },
  {
   "cell_type": "code",
   "execution_count": 2,
   "metadata": {},
   "outputs": [],
   "source": [
    "random_magic = 3301"
   ]
  },
  {
   "cell_type": "markdown",
   "metadata": {},
   "source": [
    "Далее произведем загрузку данных датасетов, регионы назовем как регион А, регион В и регион С."
   ]
  },
  {
   "cell_type": "code",
   "execution_count": 3,
   "metadata": {},
   "outputs": [],
   "source": [
    "try:\n",
    "    df_region_A = pd.read_csv('https://code.s3.yandex.net/datasets/geo_data_0.csv')\n",
    "except:\n",
    "    df_region_A = pd.read_csv('D:/learn_data/geo_data_0.csv')"
   ]
  },
  {
   "cell_type": "code",
   "execution_count": 4,
   "metadata": {},
   "outputs": [],
   "source": [
    "try:\n",
    "    df_region_B = pd.read_csv('https://code.s3.yandex.net/datasets/geo_data_1.csv')\n",
    "except:\n",
    "    df_region_B = pd.read_csv('D:/learn_data/geo_data_1.csv')"
   ]
  },
  {
   "cell_type": "code",
   "execution_count": 5,
   "metadata": {},
   "outputs": [],
   "source": [
    "try:\n",
    "    df_region_C = pd.read_csv('https://code.s3.yandex.net/datasets/geo_data_2.csv')\n",
    "except:\n",
    "    df_region_C = pd.read_csv('D:/learn_data/geo_data_2.csv')"
   ]
  },
  {
   "cell_type": "markdown",
   "metadata": {},
   "source": [
    "Создадим функцию для просмотра базовой информации датасетов и через нее взглянем на основные сведения из каждого региона. "
   ]
  },
  {
   "cell_type": "code",
   "execution_count": 6,
   "metadata": {},
   "outputs": [],
   "source": [
    "def print_base_info(df_region):\n",
    "    display(df_region.head(5))\n",
    "    print('\\n')\n",
    "    print(df_region.info())"
   ]
  },
  {
   "cell_type": "code",
   "execution_count": 7,
   "metadata": {},
   "outputs": [
    {
     "data": {
      "text/html": [
       "<div>\n",
       "<style scoped>\n",
       "    .dataframe tbody tr th:only-of-type {\n",
       "        vertical-align: middle;\n",
       "    }\n",
       "\n",
       "    .dataframe tbody tr th {\n",
       "        vertical-align: top;\n",
       "    }\n",
       "\n",
       "    .dataframe thead th {\n",
       "        text-align: right;\n",
       "    }\n",
       "</style>\n",
       "<table border=\"1\" class=\"dataframe\">\n",
       "  <thead>\n",
       "    <tr style=\"text-align: right;\">\n",
       "      <th></th>\n",
       "      <th>id</th>\n",
       "      <th>f0</th>\n",
       "      <th>f1</th>\n",
       "      <th>f2</th>\n",
       "      <th>product</th>\n",
       "    </tr>\n",
       "  </thead>\n",
       "  <tbody>\n",
       "    <tr>\n",
       "      <th>0</th>\n",
       "      <td>txEyH</td>\n",
       "      <td>0.705745</td>\n",
       "      <td>-0.497823</td>\n",
       "      <td>1.221170</td>\n",
       "      <td>105.280062</td>\n",
       "    </tr>\n",
       "    <tr>\n",
       "      <th>1</th>\n",
       "      <td>2acmU</td>\n",
       "      <td>1.334711</td>\n",
       "      <td>-0.340164</td>\n",
       "      <td>4.365080</td>\n",
       "      <td>73.037750</td>\n",
       "    </tr>\n",
       "    <tr>\n",
       "      <th>2</th>\n",
       "      <td>409Wp</td>\n",
       "      <td>1.022732</td>\n",
       "      <td>0.151990</td>\n",
       "      <td>1.419926</td>\n",
       "      <td>85.265647</td>\n",
       "    </tr>\n",
       "    <tr>\n",
       "      <th>3</th>\n",
       "      <td>iJLyR</td>\n",
       "      <td>-0.032172</td>\n",
       "      <td>0.139033</td>\n",
       "      <td>2.978566</td>\n",
       "      <td>168.620776</td>\n",
       "    </tr>\n",
       "    <tr>\n",
       "      <th>4</th>\n",
       "      <td>Xdl7t</td>\n",
       "      <td>1.988431</td>\n",
       "      <td>0.155413</td>\n",
       "      <td>4.751769</td>\n",
       "      <td>154.036647</td>\n",
       "    </tr>\n",
       "  </tbody>\n",
       "</table>\n",
       "</div>"
      ],
      "text/plain": [
       "      id        f0        f1        f2     product\n",
       "0  txEyH  0.705745 -0.497823  1.221170  105.280062\n",
       "1  2acmU  1.334711 -0.340164  4.365080   73.037750\n",
       "2  409Wp  1.022732  0.151990  1.419926   85.265647\n",
       "3  iJLyR -0.032172  0.139033  2.978566  168.620776\n",
       "4  Xdl7t  1.988431  0.155413  4.751769  154.036647"
      ]
     },
     "metadata": {},
     "output_type": "display_data"
    },
    {
     "name": "stdout",
     "output_type": "stream",
     "text": [
      "\n",
      "\n",
      "<class 'pandas.core.frame.DataFrame'>\n",
      "RangeIndex: 100000 entries, 0 to 99999\n",
      "Data columns (total 5 columns):\n",
      " #   Column   Non-Null Count   Dtype  \n",
      "---  ------   --------------   -----  \n",
      " 0   id       100000 non-null  object \n",
      " 1   f0       100000 non-null  float64\n",
      " 2   f1       100000 non-null  float64\n",
      " 3   f2       100000 non-null  float64\n",
      " 4   product  100000 non-null  float64\n",
      "dtypes: float64(4), object(1)\n",
      "memory usage: 3.8+ MB\n",
      "None\n"
     ]
    }
   ],
   "source": [
    "print_base_info(df_region_A)"
   ]
  },
  {
   "cell_type": "code",
   "execution_count": 8,
   "metadata": {},
   "outputs": [
    {
     "data": {
      "text/html": [
       "<div>\n",
       "<style scoped>\n",
       "    .dataframe tbody tr th:only-of-type {\n",
       "        vertical-align: middle;\n",
       "    }\n",
       "\n",
       "    .dataframe tbody tr th {\n",
       "        vertical-align: top;\n",
       "    }\n",
       "\n",
       "    .dataframe thead th {\n",
       "        text-align: right;\n",
       "    }\n",
       "</style>\n",
       "<table border=\"1\" class=\"dataframe\">\n",
       "  <thead>\n",
       "    <tr style=\"text-align: right;\">\n",
       "      <th></th>\n",
       "      <th>id</th>\n",
       "      <th>f0</th>\n",
       "      <th>f1</th>\n",
       "      <th>f2</th>\n",
       "      <th>product</th>\n",
       "    </tr>\n",
       "  </thead>\n",
       "  <tbody>\n",
       "    <tr>\n",
       "      <th>0</th>\n",
       "      <td>kBEdx</td>\n",
       "      <td>-15.001348</td>\n",
       "      <td>-8.276000</td>\n",
       "      <td>-0.005876</td>\n",
       "      <td>3.179103</td>\n",
       "    </tr>\n",
       "    <tr>\n",
       "      <th>1</th>\n",
       "      <td>62mP7</td>\n",
       "      <td>14.272088</td>\n",
       "      <td>-3.475083</td>\n",
       "      <td>0.999183</td>\n",
       "      <td>26.953261</td>\n",
       "    </tr>\n",
       "    <tr>\n",
       "      <th>2</th>\n",
       "      <td>vyE1P</td>\n",
       "      <td>6.263187</td>\n",
       "      <td>-5.948386</td>\n",
       "      <td>5.001160</td>\n",
       "      <td>134.766305</td>\n",
       "    </tr>\n",
       "    <tr>\n",
       "      <th>3</th>\n",
       "      <td>KcrkZ</td>\n",
       "      <td>-13.081196</td>\n",
       "      <td>-11.506057</td>\n",
       "      <td>4.999415</td>\n",
       "      <td>137.945408</td>\n",
       "    </tr>\n",
       "    <tr>\n",
       "      <th>4</th>\n",
       "      <td>AHL4O</td>\n",
       "      <td>12.702195</td>\n",
       "      <td>-8.147433</td>\n",
       "      <td>5.004363</td>\n",
       "      <td>134.766305</td>\n",
       "    </tr>\n",
       "  </tbody>\n",
       "</table>\n",
       "</div>"
      ],
      "text/plain": [
       "      id         f0         f1        f2     product\n",
       "0  kBEdx -15.001348  -8.276000 -0.005876    3.179103\n",
       "1  62mP7  14.272088  -3.475083  0.999183   26.953261\n",
       "2  vyE1P   6.263187  -5.948386  5.001160  134.766305\n",
       "3  KcrkZ -13.081196 -11.506057  4.999415  137.945408\n",
       "4  AHL4O  12.702195  -8.147433  5.004363  134.766305"
      ]
     },
     "metadata": {},
     "output_type": "display_data"
    },
    {
     "name": "stdout",
     "output_type": "stream",
     "text": [
      "\n",
      "\n",
      "<class 'pandas.core.frame.DataFrame'>\n",
      "RangeIndex: 100000 entries, 0 to 99999\n",
      "Data columns (total 5 columns):\n",
      " #   Column   Non-Null Count   Dtype  \n",
      "---  ------   --------------   -----  \n",
      " 0   id       100000 non-null  object \n",
      " 1   f0       100000 non-null  float64\n",
      " 2   f1       100000 non-null  float64\n",
      " 3   f2       100000 non-null  float64\n",
      " 4   product  100000 non-null  float64\n",
      "dtypes: float64(4), object(1)\n",
      "memory usage: 3.8+ MB\n",
      "None\n"
     ]
    }
   ],
   "source": [
    "print_base_info(df_region_B)"
   ]
  },
  {
   "cell_type": "code",
   "execution_count": 9,
   "metadata": {},
   "outputs": [
    {
     "data": {
      "text/html": [
       "<div>\n",
       "<style scoped>\n",
       "    .dataframe tbody tr th:only-of-type {\n",
       "        vertical-align: middle;\n",
       "    }\n",
       "\n",
       "    .dataframe tbody tr th {\n",
       "        vertical-align: top;\n",
       "    }\n",
       "\n",
       "    .dataframe thead th {\n",
       "        text-align: right;\n",
       "    }\n",
       "</style>\n",
       "<table border=\"1\" class=\"dataframe\">\n",
       "  <thead>\n",
       "    <tr style=\"text-align: right;\">\n",
       "      <th></th>\n",
       "      <th>id</th>\n",
       "      <th>f0</th>\n",
       "      <th>f1</th>\n",
       "      <th>f2</th>\n",
       "      <th>product</th>\n",
       "    </tr>\n",
       "  </thead>\n",
       "  <tbody>\n",
       "    <tr>\n",
       "      <th>0</th>\n",
       "      <td>fwXo0</td>\n",
       "      <td>-1.146987</td>\n",
       "      <td>0.963328</td>\n",
       "      <td>-0.828965</td>\n",
       "      <td>27.758673</td>\n",
       "    </tr>\n",
       "    <tr>\n",
       "      <th>1</th>\n",
       "      <td>WJtFt</td>\n",
       "      <td>0.262778</td>\n",
       "      <td>0.269839</td>\n",
       "      <td>-2.530187</td>\n",
       "      <td>56.069697</td>\n",
       "    </tr>\n",
       "    <tr>\n",
       "      <th>2</th>\n",
       "      <td>ovLUW</td>\n",
       "      <td>0.194587</td>\n",
       "      <td>0.289035</td>\n",
       "      <td>-5.586433</td>\n",
       "      <td>62.871910</td>\n",
       "    </tr>\n",
       "    <tr>\n",
       "      <th>3</th>\n",
       "      <td>q6cA6</td>\n",
       "      <td>2.236060</td>\n",
       "      <td>-0.553760</td>\n",
       "      <td>0.930038</td>\n",
       "      <td>114.572842</td>\n",
       "    </tr>\n",
       "    <tr>\n",
       "      <th>4</th>\n",
       "      <td>WPMUX</td>\n",
       "      <td>-0.515993</td>\n",
       "      <td>1.716266</td>\n",
       "      <td>5.899011</td>\n",
       "      <td>149.600746</td>\n",
       "    </tr>\n",
       "  </tbody>\n",
       "</table>\n",
       "</div>"
      ],
      "text/plain": [
       "      id        f0        f1        f2     product\n",
       "0  fwXo0 -1.146987  0.963328 -0.828965   27.758673\n",
       "1  WJtFt  0.262778  0.269839 -2.530187   56.069697\n",
       "2  ovLUW  0.194587  0.289035 -5.586433   62.871910\n",
       "3  q6cA6  2.236060 -0.553760  0.930038  114.572842\n",
       "4  WPMUX -0.515993  1.716266  5.899011  149.600746"
      ]
     },
     "metadata": {},
     "output_type": "display_data"
    },
    {
     "name": "stdout",
     "output_type": "stream",
     "text": [
      "\n",
      "\n",
      "<class 'pandas.core.frame.DataFrame'>\n",
      "RangeIndex: 100000 entries, 0 to 99999\n",
      "Data columns (total 5 columns):\n",
      " #   Column   Non-Null Count   Dtype  \n",
      "---  ------   --------------   -----  \n",
      " 0   id       100000 non-null  object \n",
      " 1   f0       100000 non-null  float64\n",
      " 2   f1       100000 non-null  float64\n",
      " 3   f2       100000 non-null  float64\n",
      " 4   product  100000 non-null  float64\n",
      "dtypes: float64(4), object(1)\n",
      "memory usage: 3.8+ MB\n",
      "None\n"
     ]
    }
   ],
   "source": [
    "print_base_info(df_region_C)"
   ]
  },
  {
   "cell_type": "markdown",
   "metadata": {},
   "source": [
    "Как мы видим, во всех датасетах имеется по 100000 объектов, пропусков не имеется, строковый столбец `'id'` нам в дальнейшем не понадобится, столбцы `'f0`, `'f1'`, `'f2'` содержат признаки, на которых мы будем обучать модели, столбец `'product'` содержит целевой признак.\n",
    "\n",
    "Предлагаем подробнее изучить данные по регионам с целью оценки распределения и корреляции признаков."
   ]
  },
  {
   "cell_type": "markdown",
   "metadata": {},
   "source": [
    "**Оценка распределения значений признаков**"
   ]
  },
  {
   "cell_type": "markdown",
   "metadata": {},
   "source": [
    "Создадим функции, которые будут выводить отображение информации `discribe` о признаках каждой колонки в текстовом и графическом формате (гистограмма и \"ящик с усами\")."
   ]
  },
  {
   "cell_type": "code",
   "execution_count": 10,
   "metadata": {},
   "outputs": [],
   "source": [
    "def describe_column_numeric(column, df):\n",
    "    print('Признак', column, ':')\n",
    "\n",
    "    print(df[column].describe())\n",
    "    \n",
    "    fig = px.histogram(\n",
    "        df, \n",
    "        x = column, \n",
    "        marginal = 'box', \n",
    "        opacity = 0.7,\n",
    "        title = f'Распределение значений признака {column}'\n",
    "    )\n",
    "\n",
    "    fig.update_layout(xaxis_title=f'Значения признака {column}', yaxis_title='Частота встречаемости')\n",
    "    fig.show();"
   ]
  },
  {
   "cell_type": "markdown",
   "metadata": {},
   "source": [
    "Рассмотрим данные в регионе А."
   ]
  },
  {
   "cell_type": "raw",
   "metadata": {},
   "source": [
    "describe_column_numeric('f0', df_region_A)"
   ]
  },
  {
   "cell_type": "markdown",
   "metadata": {},
   "source": [
    "Как мы видим, распределение признака `f0` в регионе А не являеся нормальным, в то же время оно относительно симметрично с разбросом приблизительно от *-1.4* до *2.36* со средним *0.5*. "
   ]
  },
  {
   "cell_type": "raw",
   "metadata": {
    "scrolled": true
   },
   "source": [
    "describe_column_numeric('f1', df_region_A)"
   ]
  },
  {
   "cell_type": "markdown",
   "metadata": {},
   "source": [
    "Как мы видим, распределение признака `f1` в регионе А не являеся нормальным, в то же время оно относительно симметрично с разбросом приблизительно от *-0.84* до *1.34* со средним *0.25*. "
   ]
  },
  {
   "cell_type": "raw",
   "metadata": {
    "scrolled": false
   },
   "source": [
    "describe_column_numeric('f2', df_region_A)"
   ]
  },
  {
   "cell_type": "markdown",
   "metadata": {},
   "source": [
    "Как мы видим, распределение признака `f2` в регионе А являеся нормальным, с разбросом приблизительно от *-12* до *16* со средним *2.5*. "
   ]
  },
  {
   "cell_type": "markdown",
   "metadata": {},
   "source": [
    "Регион В"
   ]
  },
  {
   "cell_type": "raw",
   "metadata": {
    "scrolled": true
   },
   "source": [
    "describe_column_numeric('f0', df_region_B)"
   ]
  },
  {
   "cell_type": "markdown",
   "metadata": {},
   "source": [
    "Как мы видим, распределение признака `f0` в регионе В не являеся нормальным, в то же время оно относительно симметрично с разбросом приблизительно от *-31* до *29* со средним *1.14*. "
   ]
  },
  {
   "cell_type": "raw",
   "metadata": {
    "scrolled": true
   },
   "source": [
    "describe_column_numeric('f1', df_region_B)"
   ]
  },
  {
   "cell_type": "markdown",
   "metadata": {},
   "source": [
    "Как мы видим, распределение признака `f1` в регионе В являеся нормальным с разбросом приблизительно от *-26* до *18.7* со средним *-4.8*. "
   ]
  },
  {
   "cell_type": "raw",
   "metadata": {
    "scrolled": true
   },
   "source": [
    "describe_column_numeric('f2', df_region_B)"
   ]
  },
  {
   "cell_type": "markdown",
   "metadata": {},
   "source": [
    "Как мы видим, распределение признака `f2` в регионе В не являеся нормальным, блее того, оно распределено приблизительно от *0* до *5* со средним *2.5*, при этом все числа очень близки к целочисленным. Давайте взглянем на значения признака `f2` в первых 10 строках датасета региона В. "
   ]
  },
  {
   "cell_type": "code",
   "execution_count": 17,
   "metadata": {},
   "outputs": [
    {
     "data": {
      "text/plain": [
       "0   -0.005876\n",
       "1    0.999183\n",
       "2    5.001160\n",
       "3    4.999415\n",
       "4    5.004363\n",
       "5    3.003647\n",
       "6    4.002382\n",
       "7    2.004588\n",
       "8    4.998647\n",
       "9    4.997844\n",
       "Name: f2, dtype: float64"
      ]
     },
     "execution_count": 17,
     "metadata": {},
     "output_type": "execute_result"
    }
   ],
   "source": [
    "df_region_B['f2'].head(10)"
   ]
  },
  {
   "cell_type": "markdown",
   "metadata": {},
   "source": [
    "Таким образом, значения признака `f2`является практически приближены к категориальным (отличия от целочсленных значений в тысячных долях чисел). Причину этого мы не знаем, поскольку нам неизвестно даже, измерения какого параметра заложено в этом признаке. Возможно эти данные созданы искусственно, но примем как данность верность значений параметра в целях осуществелния работы по проекту. Также будем считать, что не имелось и утечки целевого признака. "
   ]
  },
  {
   "cell_type": "markdown",
   "metadata": {},
   "source": [
    "Регион С"
   ]
  },
  {
   "cell_type": "raw",
   "metadata": {
    "scrolled": false
   },
   "source": [
    "describe_column_numeric('f0', df_region_C)"
   ]
  },
  {
   "cell_type": "markdown",
   "metadata": {},
   "source": [
    "Как мы видим, распределение признака `f0` в регионе С являеся нормальным с разбросом приблизительно от *-8.76* до *7.24* со средним *0*. "
   ]
  },
  {
   "cell_type": "raw",
   "metadata": {
    "scrolled": true
   },
   "source": [
    "describe_column_numeric('f1', df_region_C)"
   ]
  },
  {
   "cell_type": "markdown",
   "metadata": {},
   "source": [
    "Как мы видим, распределение признака `f1` в регионе С являеся нормальным с разбросом приблизительно от *-7.08* до *7.84* со средним *0*. "
   ]
  },
  {
   "cell_type": "raw",
   "metadata": {
    "scrolled": false
   },
   "source": [
    "describe_column_numeric('f2', df_region_C)"
   ]
  },
  {
   "cell_type": "markdown",
   "metadata": {},
   "source": [
    "Как мы видим, распределение признака `f2` в регионе С являеся нормальным с разбросом приблизительно от *-11.97* до *16.74* со средним *2.5*. "
   ]
  },
  {
   "cell_type": "markdown",
   "metadata": {},
   "source": [
    "**Проверка корреляции признаков**"
   ]
  },
  {
   "cell_type": "markdown",
   "metadata": {},
   "source": [
    "**Регион А**"
   ]
  },
  {
   "cell_type": "code",
   "execution_count": 21,
   "metadata": {},
   "outputs": [
    {
     "data": {
      "image/png": "[encoded data removed]",
      "text/plain": [
       "<Figure size 640x640 with 2 Axes>"
      ]
     },
     "metadata": {
      "needs_background": "light"
     },
     "output_type": "display_data"
    }
   ],
   "source": [
    "plt.figure(figsize=(8,8), dpi= 80)\n",
    "sns.heatmap(df_region_A.corr(), cmap='RdYlGn', center=0, annot=True);"
   ]
  },
  {
   "cell_type": "markdown",
   "metadata": {},
   "source": [
    "В регионе А имеется средняя положительная корреляция между целевым признаком и признаком `f2`, также имеется средяя отрцательная корреляция между признаками `f0` и `f1`."
   ]
  },
  {
   "cell_type": "markdown",
   "metadata": {},
   "source": [
    "**Регион В**"
   ]
  },
  {
   "cell_type": "code",
   "execution_count": 22,
   "metadata": {},
   "outputs": [
    {
     "data": {
      "image/png": "[encoded data removed]",
      "text/plain": [
       "<Figure size 640x640 with 2 Axes>"
      ]
     },
     "metadata": {
      "needs_background": "light"
     },
     "output_type": "display_data"
    }
   ],
   "source": [
    "plt.figure(figsize=(8,8), dpi= 80)\n",
    "sns.heatmap(df_region_B.corr(), cmap='RdYlGn', center=0, annot=True);"
   ]
  },
  {
   "cell_type": "markdown",
   "metadata": {},
   "source": [
    "В регионе В имеется практически полная положительная корреляция между целевым признаком и признаком `f2`, также имеется небольшая положительная корреляция между признаками `f0` и `f1`."
   ]
  },
  {
   "cell_type": "markdown",
   "metadata": {},
   "source": [
    "**Регион С**"
   ]
  },
  {
   "cell_type": "code",
   "execution_count": 23,
   "metadata": {},
   "outputs": [
    {
     "data": {
      "image/png": "[encoded data removed]",
      "text/plain": [
       "<Figure size 640x640 with 2 Axes>"
      ]
     },
     "metadata": {
      "needs_background": "light"
     },
     "output_type": "display_data"
    }
   ],
   "source": [
    "plt.figure(figsize=(8,8), dpi= 80)\n",
    "sns.heatmap(df_region_C.corr(), cmap='RdYlGn', center=0, annot=True);"
   ]
  },
  {
   "cell_type": "markdown",
   "metadata": {},
   "source": [
    "В регионе С имеется средняя положительная корреляция между целевым признаком и признаком `f2`, между остальными признаками корреляции не наблюдается."
   ]
  },
  {
   "cell_type": "markdown",
   "metadata": {},
   "source": [
    "В ходе изучения данныз установлено, что признаки, указанные в столбце `'id'`, являются просто идентификационным обозначением и не несут какой-либо значимой информации, поэтому просто удалим данный стобец."
   ]
  },
  {
   "cell_type": "code",
   "execution_count": 24,
   "metadata": {},
   "outputs": [],
   "source": [
    "df_region_A.drop('id', axis=1, inplace=True)\n",
    "df_region_B.drop('id', axis=1, inplace=True)\n",
    "df_region_C.drop('id', axis=1, inplace=True)"
   ]
  },
  {
   "cell_type": "markdown",
   "metadata": {},
   "source": [
    "**Выводы:** Изучив датасеты 3 регионов, мы видим, что они сдержат сведения о 100000 объектов в каждом регионе, нулевых данных не имеется, однако характер данных, заложенных в столбцах `f0`, `f1` и `f2`, нам не известен. В то же время, из изучения данных понятно, что они разичны от региона к региону, поскольку имеют разные разбросы значений и распределение. Причины этого тоже неизвестны (вероятно, там содержаться различные в зависимости от региона типы данных) В связи с этим, впоследствии нам надо будет обучать различные модели для каждого региона. "
   ]
  },
  {
   "cell_type": "markdown",
   "metadata": {},
   "source": [
    "## Обучение и проверка модели"
   ]
  },
  {
   "cell_type": "markdown",
   "metadata": {},
   "source": [
    "Сделаем разбивка данных по каждому региону на обучающую и тестовую выборки (в формате 3 к 1)."
   ]
  },
  {
   "cell_type": "code",
   "execution_count": 25,
   "metadata": {},
   "outputs": [],
   "source": [
    "features_train_a, features_test_a, target_train_a, target_test_a = train_test_split(\n",
    "    df_region_A.drop(['product'], axis=1), df_region_A['product'], test_size=0.25, random_state=random_magic)\n",
    "\n",
    "features_train_b, features_test_b, target_train_b, target_test_b = train_test_split(\n",
    "    df_region_B.drop(['product'], axis=1), df_region_B['product'], test_size=0.25, random_state=random_magic)\n",
    "\n",
    "features_train_c, features_test_c, target_train_c, target_test_c = train_test_split(\n",
    "    df_region_C.drop(['product'], axis=1), df_region_C['product'], test_size=0.25, random_state=random_magic)"
   ]
  },
  {
   "cell_type": "markdown",
   "metadata": {},
   "source": [
    "Создадим функцию для определения метрик."
   ]
  },
  {
   "cell_type": "code",
   "execution_count": 26,
   "metadata": {},
   "outputs": [],
   "source": [
    "def print_metrics(y_test,y_pred):\n",
    "    print('RMSE:', np.sqrt(mean_squared_error(y_test, y_pred)))\n",
    "    print('Средний предсказанный запас сырья:', y_pred.mean(), 'тыс. баррелей')\n",
    "    pass"
   ]
  },
  {
   "cell_type": "markdown",
   "metadata": {},
   "source": [
    "Далее обучим модели для каждого региона. Поскольку согласно условиям проекта необходимо использовать только модели линейной регрессии, предлагаю использовать модель `LassoCV`, которая является линейной моделью Лассо с итеративной подгонкой по пути регуляризации, где лучшая модель выбираеся перекрестной проверкой. Результаты предсказаний сохраним в отдельные переменные."
   ]
  },
  {
   "cell_type": "markdown",
   "metadata": {},
   "source": [
    "**Регион А**"
   ]
  },
  {
   "cell_type": "code",
   "execution_count": 27,
   "metadata": {},
   "outputs": [
    {
     "name": "stdout",
     "output_type": "stream",
     "text": [
      "RMSE 38.63742225290229\n"
     ]
    }
   ],
   "source": [
    "lasso_cv_a = LassoCV(cv=10, random_state=random_magic, selection='random').fit(features_train_a, target_train_a)\n",
    "print('RMSE', lasso_cv_a.mse_path_.mean() ** 0.5)"
   ]
  },
  {
   "cell_type": "code",
   "execution_count": 28,
   "metadata": {},
   "outputs": [
    {
     "name": "stdout",
     "output_type": "stream",
     "text": [
      "RMSE: 37.71306995929867\n",
      "Средний предсказанный запас сырья: 92.45762025639999 тыс. баррелей\n"
     ]
    }
   ],
   "source": [
    "predict_a = lasso_cv_a.predict(features_test_a)\n",
    "print_metrics(target_test_a, predict_a)"
   ]
  },
  {
   "cell_type": "markdown",
   "metadata": {},
   "source": [
    "**Регион В**"
   ]
  },
  {
   "cell_type": "code",
   "execution_count": 29,
   "metadata": {},
   "outputs": [
    {
     "name": "stdout",
     "output_type": "stream",
     "text": [
      "RMSE 12.782439202869877\n"
     ]
    }
   ],
   "source": [
    "lasso_cv_b = LassoCV(cv=10, random_state=random_magic, selection='random').fit(features_train_b, target_train_b)\n",
    "print('RMSE', lasso_cv_b.mse_path_.mean() ** 0.5)"
   ]
  },
  {
   "cell_type": "code",
   "execution_count": 30,
   "metadata": {},
   "outputs": [
    {
     "name": "stdout",
     "output_type": "stream",
     "text": [
      "RMSE: 0.8932880334500253\n",
      "Средний предсказанный запас сырья: 68.8059318456611 тыс. баррелей\n"
     ]
    }
   ],
   "source": [
    "predict_b = lasso_cv_b.predict(features_test_b)\n",
    "print_metrics(target_test_b, predict_b)"
   ]
  },
  {
   "cell_type": "markdown",
   "metadata": {},
   "source": [
    "**Регион С**"
   ]
  },
  {
   "cell_type": "code",
   "execution_count": 31,
   "metadata": {},
   "outputs": [
    {
     "name": "stdout",
     "output_type": "stream",
     "text": [
      "RMSE 40.41622081118369\n"
     ]
    }
   ],
   "source": [
    "lasso_cv_c = LassoCV(cv=10, random_state=random_magic, selection='random').fit(features_train_c, target_train_c)\n",
    "print('RMSE', lasso_cv_c.mse_path_.mean() ** 0.5)"
   ]
  },
  {
   "cell_type": "code",
   "execution_count": 32,
   "metadata": {},
   "outputs": [
    {
     "name": "stdout",
     "output_type": "stream",
     "text": [
      "RMSE: 40.12052375440618\n",
      "Средний предсказанный запас сырья: 95.25759604121873 тыс. баррелей\n"
     ]
    }
   ],
   "source": [
    "predict_c = lasso_cv_c.predict(features_test_c)\n",
    "print_metrics(target_test_c, predict_c)"
   ]
  },
  {
   "cell_type": "markdown",
   "metadata": {},
   "source": [
    "**Выводы:**\n",
    "Как мы видим, в регионах А и С в целом схожая ситуация, средний предсказанный запас сырья примерно от `92 тыс. до 95 тыс. баррелей`. Однако велико значение корня из среднекваратичной ошибки (RMSE) от `37` до `40`. В то же время в регионе В хотя и при меньшем количестве предсказанного количества сырья на скважину (`~68 тыс. баррелей`), показатель RMSE существенно ниже и составляет всего `0,89`. Предсказанные моделями данные для каждого региона сохранены в переменных `predict_a`, `predict_b` и `predict_c` и будут использованы нами далее."
   ]
  },
  {
   "cell_type": "markdown",
   "metadata": {},
   "source": [
    "## Подготовка к расчёту прибыли"
   ]
  },
  {
   "cell_type": "markdown",
   "metadata": {},
   "source": [
    "Зададим переменные, которые нам даны по условям проекта."
   ]
  },
  {
   "cell_type": "code",
   "execution_count": 33,
   "metadata": {},
   "outputs": [],
   "source": [
    "budget = 10000000000\n",
    "chosen_points = 500\n",
    "best_points = 200\n",
    "price_for_barrel = 450"
   ]
  },
  {
   "cell_type": "markdown",
   "metadata": {},
   "source": [
    "Посмотрим, какие необходимые должны быть результаты для осуществления безубыточной добычи."
   ]
  },
  {
   "cell_type": "code",
   "execution_count": 34,
   "metadata": {},
   "outputs": [
    {
     "name": "stdout",
     "output_type": "stream",
     "text": [
      "Средняя необходимая прибыль на скважину: 50000000.0 руб.\n",
      "Средний необходимый объем нефти на скважину: 111.11111111111111 тыс. баррелей\n",
      "Средний неободимый объем нефти на регион: 22222.222222222223 тыс. баррелей\n"
     ]
    }
   ],
   "source": [
    "average_profit_per_point = budget / best_points\n",
    "print('Средняя необходимая прибыль на скважину:', average_profit_per_point, 'руб.')\n",
    "\n",
    "average_barrels_per_point = average_profit_per_point  / price_for_barrel / 1000\n",
    "print('Средний необходимый объем нефти на скважину:',average_barrels_per_point, 'тыс. баррелей')\n",
    "\n",
    "average_barrels = budget / price_for_barrel / 1000\n",
    "print('Средний неободимый объем нефти на регион:',average_barrels, 'тыс. баррелей')"
   ]
  },
  {
   "cell_type": "markdown",
   "metadata": {},
   "source": [
    "А теперь взгянем на действительные запасы нефти в среднем на скважину в каждом регионе."
   ]
  },
  {
   "cell_type": "code",
   "execution_count": 35,
   "metadata": {
    "scrolled": true
   },
   "outputs": [
    {
     "name": "stdout",
     "output_type": "stream",
     "text": [
      "Средний запас фактичекой нефти на скважину в регионе A: 92.50000000000001 тыс. баррелей\n",
      "Средний запас фактичекой нефти на скважину в регионе B: 68.82500000000002 тыс. баррелей\n",
      "Средний запас фактичекой нефти на скважину в регионе C: 95.00000000000004 тыс. баррелей\n"
     ]
    }
   ],
   "source": [
    "print('Средний запас фактичекой нефти на скважину в регионе A:', df_region_A['product'].mean(), 'тыс. баррелей')\n",
    "print('Средний запас фактичекой нефти на скважину в регионе B:', df_region_B['product'].mean(), 'тыс. баррелей')\n",
    "print('Средний запас фактичекой нефти на скважину в регионе C:', df_region_C['product'].mean(), 'тыс. баррелей')"
   ]
  },
  {
   "cell_type": "markdown",
   "metadata": {},
   "source": [
    "**Выводы:**\n",
    "Как мы видим, запасы нефти в среднем на скважину в каждом регионе ниже, чем небходимо для безубыточной добычи нефти. Таким образом и возникает необходимость разрабаывать только лучшие скважины, где объем нефти будет выше 111.11 тыс. баррелей."
   ]
  },
  {
   "cell_type": "markdown",
   "metadata": {},
   "source": [
    "## Расчёт прибыли и рисков "
   ]
  },
  {
   "cell_type": "code",
   "execution_count": 36,
   "metadata": {},
   "outputs": [],
   "source": [
    "def revenue(target, predict):\n",
    "    predict_sorted = predict.sort_values(ascending=False)\n",
    "    selected = target.loc[predict_sorted.index.to_list()][:best_points]\n",
    "    return (selected.sum() * price_for_barrel * 1000) - budget"
   ]
  },
  {
   "cell_type": "code",
   "execution_count": 37,
   "metadata": {},
   "outputs": [],
   "source": [
    "def bootstrap(target_test, predict, region):\n",
    "    state = np.random.RandomState(random_magic)\n",
    "    values = []\n",
    "    target = target_test.reset_index(drop=True)\n",
    "    predictions = pd.Series(predict)\n",
    "    count = 0 \n",
    "    for i in range(1000):\n",
    " \n",
    "        target_subsample = target.sample(500, replace=True, random_state=state)\n",
    "        predictions_subsample = predictions.loc[target_subsample.index.to_list()]\n",
    "        value = revenue(target_subsample, predictions_subsample)\n",
    "        values.append(value)\n",
    "        \n",
    "        if value < 0: \n",
    "            count += 1 \n",
    "        \n",
    "    risk = count / 1000\n",
    " \n",
    "    values = pd.Series(values)\n",
    "    \n",
    "    lower = values.quantile(0.025)\n",
    "    upper = values.quantile(0.975) \n",
    "    \n",
    "    print('Средняя прибыль по региону', region, 'составляет:', round(values.mean(), 2), 'руб. с риском в', \n",
    "          round(risk * 100, 2), '%')\n",
    "    print('Доверительный интервал в регионе составляет от', round(lower, 2),'до', round(upper, 2))"
   ]
  },
  {
   "cell_type": "code",
   "execution_count": 38,
   "metadata": {},
   "outputs": [
    {
     "name": "stdout",
     "output_type": "stream",
     "text": [
      "Средняя прибыль по региону A составляет: 471176510.37 руб. с риском в 3.6 %\n",
      "Доверительный интервал в регионе составляет от -45319034.46 до 990832013.95\n"
     ]
    }
   ],
   "source": [
    "bootstrap(target_test_a, predict_a, 'A')"
   ]
  },
  {
   "cell_type": "code",
   "execution_count": 39,
   "metadata": {},
   "outputs": [
    {
     "name": "stdout",
     "output_type": "stream",
     "text": [
      "Средняя прибыль по региону B составляет: 505409319.17 руб. с риском в 1.0 %\n",
      "Доверительный интервал в регионе составляет от 80257349.83 до 947108434.52\n"
     ]
    }
   ],
   "source": [
    "bootstrap(target_test_b, predict_b, 'B')"
   ]
  },
  {
   "cell_type": "code",
   "execution_count": 40,
   "metadata": {},
   "outputs": [
    {
     "name": "stdout",
     "output_type": "stream",
     "text": [
      "Средняя прибыль по региону C составляет: 359758112.3 руб. с риском в 10.8 %\n",
      "Доверительный интервал в регионе составляет от -194198526.0 до 910898968.84\n"
     ]
    }
   ],
   "source": [
    "bootstrap(target_test_c, predict_c, 'C')"
   ]
  },
  {
   "cell_type": "markdown",
   "metadata": {},
   "source": [
    "**Выводы:**\n",
    "Данные были обработаны и рассчитаны прибыль, доверительные интервалы и риски в каждом регионе.\n",
    "По условиям проекта (вероятность убитков меее 2,5%) проходится отсеять регион А и регион С, поскольку в них риски достаточно велики. Остается один единственный вариант разработки - регион В, чей риск существенно ниже требуемого. Кроме того доверительный интервал показывает, что даже при не очень удачном выборе разработка скважин должна окупиться."
   ]
  },
  {
   "cell_type": "markdown",
   "metadata": {},
   "source": [
    "**Общие выводы:**\n",
    "\n",
    "При выполнении данного проекта было выполнено:\n",
    "- Изучены данные. Проведена подготовка данных к моделированию.\n",
    "- Обучена модель для каждого региона (А, В и С).\n",
    "- Составлена функция расчета прибыли в регионе.\n",
    "- Посчитана прибыль и риски за каждый регион и обоснован выбор региона.\n",
    "\n",
    "В результате проекта `регион В` получился одним из лучших по показателям предсказывания, хотя данные не выглядят нормально распределенными (согласно условиям проекта все данные синтетические). Таким образом, нами предлагается `регион В` для разработки скважин по причине минмального риска (около 1%), нахождения всего доверительного интервала в зоне прибыли и самом высоком показателе предсказанного среднего дохода (505409319.17 руб.).  "
   ]
  }
 ],
 "metadata": {
  "ExecuteTimeLog": [
   {
    "duration": 2266,
    "start_time": "2023-04-25T10:22:04.058Z"
   },
   {
    "duration": 3,
    "start_time": "2023-04-25T10:22:06.326Z"
   },
   {
    "duration": 250,
    "start_time": "2023-04-25T10:22:06.331Z"
   },
   {
    "duration": 429,
    "start_time": "2023-04-25T10:22:06.583Z"
   },
   {
    "duration": 222,
    "start_time": "2023-04-25T10:22:07.014Z"
   },
   {
    "duration": 4,
    "start_time": "2023-04-25T10:22:07.237Z"
   },
   {
    "duration": 46,
    "start_time": "2023-04-25T10:22:07.242Z"
   },
   {
    "duration": 21,
    "start_time": "2023-04-25T10:22:07.290Z"
   },
   {
    "duration": 19,
    "start_time": "2023-04-25T10:22:07.312Z"
   },
   {
    "duration": 5,
    "start_time": "2023-04-25T10:22:07.348Z"
   },
   {
    "duration": 1874,
    "start_time": "2023-04-25T10:22:07.355Z"
   },
   {
    "duration": 1729,
    "start_time": "2023-04-25T10:22:09.231Z"
   },
   {
    "duration": 1780,
    "start_time": "2023-04-25T10:22:10.963Z"
   },
   {
    "duration": 1800,
    "start_time": "2023-04-25T10:22:12.748Z"
   },
   {
    "duration": 1957,
    "start_time": "2023-04-25T10:22:14.549Z"
   },
   {
    "duration": 1706,
    "start_time": "2023-04-25T10:22:16.508Z"
   },
   {
    "duration": 6,
    "start_time": "2023-04-25T10:22:18.216Z"
   },
   {
    "duration": 1781,
    "start_time": "2023-04-25T10:22:18.223Z"
   },
   {
    "duration": 1820,
    "start_time": "2023-04-25T10:22:20.007Z"
   },
   {
    "duration": 1669,
    "start_time": "2023-04-25T10:22:21.832Z"
   },
   {
    "duration": 554,
    "start_time": "2023-04-25T10:22:23.503Z"
   },
   {
    "duration": 601,
    "start_time": "2023-04-25T10:22:24.058Z"
   },
   {
    "duration": 337,
    "start_time": "2023-04-25T10:22:24.661Z"
   },
   {
    "duration": 16,
    "start_time": "2023-04-25T10:22:25.000Z"
   },
   {
    "duration": 55,
    "start_time": "2023-04-25T10:22:25.018Z"
   },
   {
    "duration": 10,
    "start_time": "2023-04-25T10:22:25.075Z"
   },
   {
    "duration": 2684,
    "start_time": "2023-04-25T10:22:25.087Z"
   },
   {
    "duration": 82,
    "start_time": "2023-04-25T10:22:27.776Z"
   },
   {
    "duration": 2922,
    "start_time": "2023-04-25T10:22:27.860Z"
   },
   {
    "duration": 97,
    "start_time": "2023-04-25T10:22:30.852Z"
   },
   {
    "duration": 3418,
    "start_time": "2023-04-25T10:22:30.951Z"
   },
   {
    "duration": 187,
    "start_time": "2023-04-25T10:22:34.370Z"
   },
   {
    "duration": 10,
    "start_time": "2023-04-25T10:22:34.565Z"
   },
   {
    "duration": 72,
    "start_time": "2023-04-25T10:22:34.577Z"
   },
   {
    "duration": 8,
    "start_time": "2023-04-25T10:22:34.651Z"
   },
   {
    "duration": 42,
    "start_time": "2023-04-25T10:22:34.662Z"
   },
   {
    "duration": 16,
    "start_time": "2023-04-25T10:22:34.707Z"
   },
   {
    "duration": 1528,
    "start_time": "2023-04-25T10:22:34.725Z"
   },
   {
    "duration": 1377,
    "start_time": "2023-04-25T10:22:36.255Z"
   },
   {
    "duration": 1351,
    "start_time": "2023-04-25T10:22:37.633Z"
   }
  ],
  "kernelspec": {
   "display_name": "Python 3 (ipykernel)",
   "language": "python",
   "name": "python3"
  },
  "language_info": {
   "codemirror_mode": {
    "name": "ipython",
    "version": 3
   },
   "file_extension": ".py",
   "mimetype": "text/x-python",
   "name": "python",
   "nbconvert_exporter": "python",
   "pygments_lexer": "ipython3",
   "version": "3.11.5"
  },
  "toc": {
   "base_numbering": 1,
   "nav_menu": {
    "height": "145.99px",
    "width": "496.99px"
   },
   "number_sections": true,
   "sideBar": true,
   "skip_h1_title": true,
   "title_cell": "Table of Contents",
   "title_sidebar": "Contents",
   "toc_cell": false,
   "toc_position": {},
   "toc_section_display": true,
   "toc_window_display": false
  }
 },
 "nbformat": 4,
 "nbformat_minor": 2
}
